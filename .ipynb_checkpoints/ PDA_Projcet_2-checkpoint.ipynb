{
 "cells": [
  {
   "cell_type": "markdown",
   "id": "f6d09e37",
   "metadata": {},
   "source": [
    "### Programming for Data Analysis Project\n",
    "\n",
    "Author: Agnieszka Waszczuk\n",
    "\n",
    "*** \n",
    "This repository is used for the project given by the lecture on Programming for <em><strong> Data Analysis module on Higher Diploma in Science in Computing in Data Analytics at ATU.</strong></em>\n",
    "\n",
    "***"
   ]
  },
  {
   "cell_type": "code",
   "execution_count": 19,
   "id": "6de55ad4",
   "metadata": {},
   "outputs": [],
   "source": [
    "# Important library \n",
    "\n",
    "import pandas as pd\n",
    "import matplotlib.pyplot as plt\n",
    "import pandas as pd\n",
    "import os"
   ]
  },
  {
   "cell_type": "markdown",
   "id": "3903fe9b",
   "metadata": {},
   "source": [
    "### The EPICA deep Ice Cores 800KYr Deuterium Data and Temperature Estimates\n",
    "\n",
    "This research article delves into the European Project for Ice Coring in Antarctica (EPICA), focusing on two pivotal deep ice cores drilled in Dome C and Dronning Maud Land (DML). With the primary goal of understanding climatic variations in the Southern Hemisphere, the Dome C core offers insights into global climate mechanisms over extensive cycles, while the DML core provides a detailed record for comparative analysis with Greenland records. Published in the Annals of Glaciology in 2004, this study contributes to the broader understanding of climate dynamics on the Antarctic continent[1].\n",
    "\n",
    "Temperature was estimated after correction for sea-water isotopic composition (Bintanja et al, 2005) and for ice sheet elevation (Parrenin et al, 2007) on EDC3 age scale (Parrenin et al, 2007)[2].\n",
    "\n",
    "\n",
    "[1]. https://www.cambridge.org/core/journals/annals-of-glaciology/article/epica-deep-ice-cores-first-results-and-perspectives/BFC6D11388E8723E5B6BE0978A39201B#\n",
    "\n",
    "[2]. https://doi.pangaea.de/10.1594/PANGAEA.683655"
   ]
  },
  {
   "cell_type": "code",
   "execution_count": 20,
   "id": "d5aea543",
   "metadata": {},
   "outputs": [
    {
     "name": "stdout",
     "output_type": "stream",
     "text": [
      "<class 'pandas.core.frame.DataFrame'>\n",
      "Int64Index: 5785 entries, 12 to 5799\n",
      "Data columns (total 2 columns):\n",
      " #   Column       Non-Null Count  Dtype  \n",
      "---  ------       --------------  -----  \n",
      " 0   Age          5785 non-null   float64\n",
      " 1   Temperature  5785 non-null   float64\n",
      "dtypes: float64(2)\n",
      "memory usage: 135.6 KB\n"
     ]
    }
   ],
   "source": [
    "# Read the text file into a DataFrame\n",
    "df = pd.read_csv('data/EPICA Dome C Ice Core 800KYr 2007.txt', sep='\\s+', skiprows=91).dropna()\n",
    "df=df.drop(['Bag','ztop','Deuterium'],axis=1)\n",
    "df = pd.read_csv('data/EPICA Dome C Ice Core 800KYr 2007.txt', sep='\\s+', skiprows=91).dropna()\n",
    "df=df.drop(['Bag','ztop','Deuterium'],axis=1)\n",
    "df.info()\n",
    "\n"
   ]
  },
  {
   "cell_type": "code",
   "execution_count": 21,
   "id": "6ddda72f",
   "metadata": {},
   "outputs": [
    {
     "name": "stdout",
     "output_type": "stream",
     "text": [
      "Null counts in each column:\n",
      "Age            0\n",
      "Temperature    0\n",
      "dtype: int64\n"
     ]
    }
   ],
   "source": [
    "# Checking for null entries in each column\n",
    "null_counts = df.isnull().sum()\n",
    "# Display the count of null values in each column\n",
    "print(\"Null counts in each column:\")\n",
    "print(null_counts)"
   ]
  },
  {
   "cell_type": "code",
   "execution_count": 22,
   "id": "6cc1b9be",
   "metadata": {},
   "outputs": [
    {
     "data": {
      "text/html": [
       "<div>\n",
       "<style scoped>\n",
       "    .dataframe tbody tr th:only-of-type {\n",
       "        vertical-align: middle;\n",
       "    }\n",
       "\n",
       "    .dataframe tbody tr th {\n",
       "        vertical-align: top;\n",
       "    }\n",
       "\n",
       "    .dataframe thead th {\n",
       "        text-align: right;\n",
       "    }\n",
       "</style>\n",
       "<table border=\"1\" class=\"dataframe\">\n",
       "  <thead>\n",
       "    <tr style=\"text-align: right;\">\n",
       "      <th></th>\n",
       "      <th>Age</th>\n",
       "      <th>Temperature</th>\n",
       "    </tr>\n",
       "  </thead>\n",
       "  <tbody>\n",
       "    <tr>\n",
       "      <th>12</th>\n",
       "      <td>38.37379</td>\n",
       "      <td>0.88</td>\n",
       "    </tr>\n",
       "    <tr>\n",
       "      <th>13</th>\n",
       "      <td>46.81203</td>\n",
       "      <td>1.84</td>\n",
       "    </tr>\n",
       "    <tr>\n",
       "      <th>14</th>\n",
       "      <td>55.05624</td>\n",
       "      <td>3.04</td>\n",
       "    </tr>\n",
       "    <tr>\n",
       "      <th>15</th>\n",
       "      <td>64.41511</td>\n",
       "      <td>0.35</td>\n",
       "    </tr>\n",
       "    <tr>\n",
       "      <th>16</th>\n",
       "      <td>73.15077</td>\n",
       "      <td>-0.42</td>\n",
       "    </tr>\n",
       "    <tr>\n",
       "      <th>17</th>\n",
       "      <td>81.93244</td>\n",
       "      <td>0.05</td>\n",
       "    </tr>\n",
       "    <tr>\n",
       "      <th>18</th>\n",
       "      <td>90.75925</td>\n",
       "      <td>0.05</td>\n",
       "    </tr>\n",
       "    <tr>\n",
       "      <th>19</th>\n",
       "      <td>99.97031</td>\n",
       "      <td>-0.52</td>\n",
       "    </tr>\n",
       "    <tr>\n",
       "      <th>20</th>\n",
       "      <td>109.88879</td>\n",
       "      <td>0.79</td>\n",
       "    </tr>\n",
       "    <tr>\n",
       "      <th>21</th>\n",
       "      <td>119.25888</td>\n",
       "      <td>-0.55</td>\n",
       "    </tr>\n",
       "  </tbody>\n",
       "</table>\n",
       "</div>"
      ],
      "text/plain": [
       "          Age  Temperature\n",
       "12   38.37379         0.88\n",
       "13   46.81203         1.84\n",
       "14   55.05624         3.04\n",
       "15   64.41511         0.35\n",
       "16   73.15077        -0.42\n",
       "17   81.93244         0.05\n",
       "18   90.75925         0.05\n",
       "19   99.97031        -0.52\n",
       "20  109.88879         0.79\n",
       "21  119.25888        -0.55"
      ]
     },
     "execution_count": 22,
     "metadata": {},
     "output_type": "execute_result"
    }
   ],
   "source": [
    "df.head(10)"
   ]
  },
  {
   "cell_type": "markdown",
   "id": "f5075b96",
   "metadata": {},
   "source": [
    "#### Histogram for Temperature and Age \n",
    "\n"
   ]
  },
  {
   "cell_type": "code",
   "execution_count": 23,
   "id": "62b0ea6b",
   "metadata": {},
   "outputs": [
    {
     "data": {
      "image/png": "[encoded data removed]",
      "text/plain": [
       "<Figure size 1200x400 with 2 Axes>"
      ]
     },
     "metadata": {},
     "output_type": "display_data"
    }
   ],
   "source": [
    "# Histogram for temperature data\n",
    "fig, axs = plt.subplots(1, 2, figsize=(12, 4))\n",
    "\n",
    "# Age histogram\n",
    "axs[0].hist(df['Age'], label=\"Age\", bins=20, color='aqua', edgecolor='black')\n",
    "axs[0].set_xlabel('Age')\n",
    "axs[0].set_ylabel('Frequency')\n",
    "# Add legend \n",
    "axs[0].legend()\n",
    "# Add grid\n",
    "axs[0].grid(True, linestyle='--', alpha=0.6)  # Add grid\n",
    "\n",
    "# Temperature histogram\n",
    "axs[1].hist(df['Temperature'], label=\"Temperature\", bins=20, color= 'gold', edgecolor='black')\n",
    "axs[1].set_xlabel('Temperature (°C)')\n",
    "axs[1].set_ylabel('Frequency')\n",
    "# Add legend \n",
    "axs[1].legend()\n",
    "# Add grid\n",
    "axs[1].grid(True, linestyle='--', alpha=0.6)  # Add grid\n",
    "\n",
    "# Addig title\n",
    "plt.suptitle(\"Age and Temperature Distribution\")\n",
    "\n",
    "# Adjust layout\n",
    "plt.tight_layout()\n",
    "\n",
    "# Show the plot\n",
    "plt.show()\n"
   ]
  },
  {
   "cell_type": "code",
   "execution_count": 24,
   "id": "15b1750b",
   "metadata": {},
   "outputs": [
    {
     "data": {
      "text/html": [
       "<div>\n",
       "<style scoped>\n",
       "    .dataframe tbody tr th:only-of-type {\n",
       "        vertical-align: middle;\n",
       "    }\n",
       "\n",
       "    .dataframe tbody tr th {\n",
       "        vertical-align: top;\n",
       "    }\n",
       "\n",
       "    .dataframe thead th {\n",
       "        text-align: right;\n",
       "    }\n",
       "</style>\n",
       "<table border=\"1\" class=\"dataframe\">\n",
       "  <thead>\n",
       "    <tr style=\"text-align: right;\">\n",
       "      <th></th>\n",
       "      <th>Age</th>\n",
       "      <th>Temperature</th>\n",
       "    </tr>\n",
       "  </thead>\n",
       "  <tbody>\n",
       "    <tr>\n",
       "      <th>count</th>\n",
       "      <td>5785.000000</td>\n",
       "      <td>5785.000000</td>\n",
       "    </tr>\n",
       "    <tr>\n",
       "      <th>mean</th>\n",
       "      <td>190506.560624</td>\n",
       "      <td>-4.580228</td>\n",
       "    </tr>\n",
       "    <tr>\n",
       "      <th>std</th>\n",
       "      <td>192554.547328</td>\n",
       "      <td>3.446971</td>\n",
       "    </tr>\n",
       "    <tr>\n",
       "      <th>min</th>\n",
       "      <td>38.373790</td>\n",
       "      <td>-10.580000</td>\n",
       "    </tr>\n",
       "    <tr>\n",
       "      <th>25%</th>\n",
       "      <td>46793.812500</td>\n",
       "      <td>-7.450000</td>\n",
       "    </tr>\n",
       "    <tr>\n",
       "      <th>50%</th>\n",
       "      <td>122110.190000</td>\n",
       "      <td>-5.200000</td>\n",
       "    </tr>\n",
       "    <tr>\n",
       "      <th>75%</th>\n",
       "      <td>273338.430000</td>\n",
       "      <td>-1.820000</td>\n",
       "    </tr>\n",
       "    <tr>\n",
       "      <th>max</th>\n",
       "      <td>801662.000000</td>\n",
       "      <td>5.460000</td>\n",
       "    </tr>\n",
       "  </tbody>\n",
       "</table>\n",
       "</div>"
      ],
      "text/plain": [
       "                 Age  Temperature\n",
       "count    5785.000000  5785.000000\n",
       "mean   190506.560624    -4.580228\n",
       "std    192554.547328     3.446971\n",
       "min        38.373790   -10.580000\n",
       "25%     46793.812500    -7.450000\n",
       "50%    122110.190000    -5.200000\n",
       "75%    273338.430000    -1.820000\n",
       "max    801662.000000     5.460000"
      ]
     },
     "execution_count": 24,
     "metadata": {},
     "output_type": "execute_result"
    }
   ],
   "source": [
    "#Summary statistics \n",
    "df.describe()\n"
   ]
  },
  {
   "cell_type": "code",
   "execution_count": 25,
   "id": "2c4be68a",
   "metadata": {
    "scrolled": true
   },
   "outputs": [],
   "source": [
    "# Folder location\n",
    "input_folder = r'C:\\Users\\PC\\DA\\PDA_Project_2\\data'\n",
    "\n",
    "# files names\n",
    "filename01='41586_2008_BFnature06949_MOESM31_ESM.xls'\n",
    "filename02='epicaDC.deuttemp.EDC3-AICC.xls'\n",
    "filename03='grl52461-sup-0003-supplementary.xls'"
   ]
  },
  {
   "cell_type": "code",
   "execution_count": 26,
   "id": "e1cc6030",
   "metadata": {},
   "outputs": [
    {
     "ename": "SyntaxError",
     "evalue": "invalid syntax (3140931308.py, line 1)",
     "output_type": "error",
     "traceback": [
      "\u001b[1;36m  Cell \u001b[1;32mIn[26], line 1\u001b[1;36m\u001b[0m\n\u001b[1;33m    pip install xlrd\u001b[0m\n\u001b[1;37m        ^\u001b[0m\n\u001b[1;31mSyntaxError\u001b[0m\u001b[1;31m:\u001b[0m invalid syntax\n"
     ]
    }
   ],
   "source": [
    "pip install xlrd\n",
    "conda install -c conda-forge xlrd\n",
    "\n",
    "\n",
    "!pip install xlrd\n"
   ]
  },
  {
   "cell_type": "code",
   "execution_count": null,
   "id": "e3e011bd",
   "metadata": {},
   "outputs": [],
   "source": [
    "# READ THE THE SHEETS FROM FILES\n",
    "\n",
    "# 3 sheets from first file\n",
    "co2_new = pd.read_excel(os.path.join(input_folder,filename01),sheet_name='1.  new CO2 data',skiprows=6)\n",
    "vostok = pd.read_excel(os.path.join(input_folder,filename01),sheet_name='2.  Vostok-TD-Dome C',skiprows=6)\n",
    "co2_composite = pd.read_excel(os.path.join(input_folder,filename01),sheet_name='3.  Composite CO2',skiprows=6)"
   ]
  },
  {
   "cell_type": "markdown",
   "id": "7c7e48ec",
   "metadata": {},
   "source": [
    "### 2 Composite CO2 Data \n",
    "    \n",
    "    "
   ]
  },
  {
   "cell_type": "code",
   "execution_count": null,
   "id": "c723d630",
   "metadata": {},
   "outputs": [],
   "source": [
    "co2_composite.info()\n"
   ]
  },
  {
   "cell_type": "code",
   "execution_count": null,
   "id": "bac9319b",
   "metadata": {},
   "outputs": [],
   "source": [
    "co2_composite.head()\n"
   ]
  },
  {
   "cell_type": "code",
   "execution_count": null,
   "id": "c2961d55",
   "metadata": {},
   "outputs": [],
   "source": [
    "# Checking for null entries\n",
    "print(co2_composite.isnull().sum())"
   ]
  },
  {
   "cell_type": "markdown",
   "id": "17c84081",
   "metadata": {},
   "source": [
    "The output indicates there are no null entries for \"year\" or \"CO2 (ppmv)\" columns."
   ]
  },
  {
   "cell_type": "code",
   "execution_count": null,
   "id": "d9340c18",
   "metadata": {},
   "outputs": [],
   "source": [
    "#Summary statistics \n",
    "co2_composite.describe()\n"
   ]
  },
  {
   "cell_type": "code",
   "execution_count": null,
   "id": "fd2df3ce",
   "metadata": {},
   "outputs": [],
   "source": [
    "# Reanme column EDC3 as year\n",
    "co2_composite.rename(columns={'EDC3_gas_a (yr)': 'year'}, inplace=True)\n",
    "\n",
    "# Add plotting\n",
    "plt.figure(figsize=(10, 6)) # set up size of the figure \n",
    "plt.plot(co2_composite['year'], co2_composite['CO2 (ppmv)'], marker='o', color='blue')\n",
    "# Add label\n",
    "plt.xlabel('Year')\n",
    "plt.ylabel('CO2 (ppmv)')\n",
    "# Add title\n",
    "plt.title('Relationship between Year and CO2')\n",
    "# Add grid \n",
    "plt.grid(True)\n",
    "plt.show()\n",
    "\n"
   ]
  },
  {
   "cell_type": "markdown",
   "id": "da482ccc",
   "metadata": {},
   "source": [
    "### 3. Epica "
   ]
  },
  {
   "cell_type": "code",
   "execution_count": null,
   "id": "9ef4d400",
   "metadata": {},
   "outputs": [],
   "source": [
    "# Second file\n",
    "epica = pd.read_excel(os.path.join(input_folder,filename02))\n"
   ]
  },
  {
   "cell_type": "code",
   "execution_count": null,
   "id": "e82945c6",
   "metadata": {},
   "outputs": [],
   "source": [
    "epica.info()"
   ]
  },
  {
   "cell_type": "code",
   "execution_count": null,
   "id": "8bd3e071",
   "metadata": {},
   "outputs": [],
   "source": [
    "epica.head()\n"
   ]
  },
  {
   "cell_type": "code",
   "execution_count": null,
   "id": "13408de5",
   "metadata": {},
   "outputs": [],
   "source": [
    "# Checking for null entries\n",
    "print(epica.isnull().sum())"
   ]
  },
  {
   "cell_type": "markdown",
   "id": "44a739e1",
   "metadata": {},
   "source": [
    "The column deutfinal has 15 null entries. "
   ]
  },
  {
   "cell_type": "code",
   "execution_count": null,
   "id": "d323d547",
   "metadata": {},
   "outputs": [],
   "source": [
    "#Droping the rows with null values\n",
    "epica = epica.dropna(subset=['deutfinal'])\n"
   ]
  },
  {
   "cell_type": "code",
   "execution_count": null,
   "id": "296556dc",
   "metadata": {},
   "outputs": [],
   "source": [
    "#Summary statistics \n",
    "epica.describe()"
   ]
  },
  {
   "cell_type": "code",
   "execution_count": null,
   "id": "13765f4e",
   "metadata": {},
   "outputs": [],
   "source": [
    "# 2 sheets from third file\n",
    "sup_all_records=pd.read_excel(os.path.join(input_folder,filename03),sheet_name='all records',skiprows=6)\n",
    "co02_composite02=pd.read_excel(os.path.join(input_folder,filename03),sheet_name='CO2 Composite',skiprows=14)"
   ]
  },
  {
   "cell_type": "markdown",
   "id": "520bcdb0",
   "metadata": {},
   "source": [
    "#### Co02 composit "
   ]
  },
  {
   "cell_type": "code",
   "execution_count": null,
   "id": "08bc270a",
   "metadata": {},
   "outputs": [],
   "source": [
    "co02_composite02.info()"
   ]
  },
  {
   "cell_type": "code",
   "execution_count": null,
   "id": "7f1a27a5",
   "metadata": {},
   "outputs": [],
   "source": [
    "co02_composite02.head()"
   ]
  },
  {
   "cell_type": "code",
   "execution_count": null,
   "id": "ac0dfbca",
   "metadata": {},
   "outputs": [],
   "source": [
    "# Checking for null entries\n",
    "print(co02_composite02.isnull().sum())"
   ]
  },
  {
   "cell_type": "markdown",
   "id": "05df2048",
   "metadata": {},
   "source": [
    "Data does not have missing values in these particular columns."
   ]
  },
  {
   "cell_type": "code",
   "execution_count": null,
   "id": "12659faf",
   "metadata": {},
   "outputs": [],
   "source": [
    "# Checking column names\n",
    "print(co02_composite02.columns)\n",
    "\n",
    "# Display DataFrame information\n",
    "co02_composite02.info()\n",
    "\n",
    "# Print the first few rows\n",
    "print(co02_composite02.head()) \n",
    "print(co02_composite02.columns)\n",
    "\n",
    "# Display DataFrame information\n",
    "co02_composite02.info()\n",
    "\n",
    "# Print the first few rows\n",
    "print(co02_composite02.head())"
   ]
  },
  {
   "cell_type": "markdown",
   "id": "17aa0184",
   "metadata": {},
   "source": [
    "### Review data !! "
   ]
  },
  {
   "cell_type": "code",
   "execution_count": null,
   "id": "a8e4288d",
   "metadata": {},
   "outputs": [],
   "source": [
    "# Remove leading and trailing whitespaces from column names\n",
    "co02_composite02.columns = co02_composite02.columns.str.strip()\n",
    "\n",
    "# Creating plot \n",
    "fig, ax1 = plt.subplots(figsize=(10, 6))\n",
    "\n",
    "# Plot on the first y-axis\n",
    "ax1.plot(co02_composite02['Gasage (yr BP)'], co02_composite02['CO2 (ppmv)'], label='CO2_composite02', marker='.', color='blue')\n",
    "ax1.set_xlabel('Gasage (yr BP)')\n",
    "ax1.set_ylabel('CO2_composite02', color='blue')\n",
    "ax1.tick_params(axis='y', labelcolor='blue')\n",
    "ax1.legend(loc='upper left')\n",
    "\n",
    "# Create a second y-axis\n",
    "ax2 = ax1.twinx()\n",
    "ax2.plot(co02_composite02['Gasage (yr BP)'], co02_composite02['sigma mean CO2 (ppmv)'], label='sigma mean CO2 (ppmv)', marker='*', color='red')\n",
    "ax2.set_ylabel('sigma mean CO2 (ppmv)', color='red')\n",
    "ax2.tick_params(axis='y', labelcolor='red')\n",
    "ax2.legend(loc='upper right')\n",
    "\n",
    "# Adding title of plot\n",
    "plt.title('CO2 and Sigma Mean CO2 Over 800 Yaeras ')\n",
    "plt.grid(True)\n",
    "plt.show()\n"
   ]
  },
  {
   "cell_type": "code",
   "execution_count": null,
   "id": "c4833a85",
   "metadata": {},
   "outputs": [],
   "source": [
    "\n",
    "# Remove leading and trailing whitespaces from column names\n",
    "co02_composite02.columns = co02_composite02.columns.str.strip()\n",
    "\n",
    "# Create plot\n",
    "fig, ax = plt.subplots(figsize=(10, 6))\n",
    "\n",
    "# Plot CO2 and Gasage on the same axes\n",
    "ax.plot(co02_composite02['Gasage (yr BP)'], co02_composite02['CO2 (ppmv)'], label='CO2_composite02', marker='.', color='blue')\n",
    "\n",
    "# Set labels and legend \n",
    "ax.set_xlabel('Gasage (yr BP)')\n",
    "ax.set_ylabel('CO2_composite02', color='blue')\n",
    "ax.tick_params(axis='y', labelcolor='blue')\n",
    "ax.legend(loc='upper left')\n",
    "\n",
    "# Adding title \n",
    "plt.title('CO2_composite02 Over Time')\n",
    "plt.grid(True)\n",
    "plt.show()\n"
   ]
  },
  {
   "cell_type": "markdown",
   "id": "f96735e2",
   "metadata": {},
   "source": [
    "\n",
    "\n"
   ]
  },
  {
   "cell_type": "markdown",
   "id": "d1731e40",
   "metadata": {},
   "source": [
    "# Data grl52461"
   ]
  },
  {
   "cell_type": "code",
   "execution_count": 58,
   "id": "0bb3ab27",
   "metadata": {},
   "outputs": [
    {
     "data": {
      "text/html": [
       "<div>\n",
       "<style scoped>\n",
       "    .dataframe tbody tr th:only-of-type {\n",
       "        vertical-align: middle;\n",
       "    }\n",
       "\n",
       "    .dataframe tbody tr th {\n",
       "        vertical-align: top;\n",
       "    }\n",
       "\n",
       "    .dataframe thead th {\n",
       "        text-align: right;\n",
       "    }\n",
       "</style>\n",
       "<table border=\"1\" class=\"dataframe\">\n",
       "  <thead>\n",
       "    <tr style=\"text-align: right;\">\n",
       "      <th></th>\n",
       "      <th>Year</th>\n",
       "      <th>Gasage (EDC3, yr BP)</th>\n",
       "      <th>Gasage (AICC2012, yr BP)</th>\n",
       "      <th>CO2 (ppmv)</th>\n",
       "      <th>sigma mean CO2 (ppmv)</th>\n",
       "      <th>Depth (m).1</th>\n",
       "      <th>Gasage (EDC3, yr BP).1</th>\n",
       "      <th>Gasage (AICC2012, yr BP).1</th>\n",
       "      <th>CO2 (ppmv).1</th>\n",
       "      <th>Depth (m).2</th>\n",
       "      <th>...</th>\n",
       "      <th>Gasage (WDC06A-7, yr BP).1</th>\n",
       "      <th>CO2 (ppmv).19</th>\n",
       "      <th>sigma mean CO2 (ppmv).16</th>\n",
       "      <th>Depth (m).19</th>\n",
       "      <th>Gasage (AICC2012, yr BP).13</th>\n",
       "      <th>corrected CO2 (ppmv)</th>\n",
       "      <th>analytical sigma mean CO2 (ppmv)</th>\n",
       "      <th>Correcting Factor (ppmv)</th>\n",
       "      <th>lower bound (2 sigma) of correction F. (ppmv)</th>\n",
       "      <th>upper bound (2 sigma) of correction F. (ppmv)</th>\n",
       "    </tr>\n",
       "  </thead>\n",
       "  <tbody>\n",
       "    <tr>\n",
       "      <th>0</th>\n",
       "      <td>102.83</td>\n",
       "      <td>137.0</td>\n",
       "      <td>350.110103</td>\n",
       "      <td>280.4</td>\n",
       "      <td>1.8</td>\n",
       "      <td>149.1</td>\n",
       "      <td>2690.0</td>\n",
       "      <td>NaN</td>\n",
       "      <td>284.7</td>\n",
       "      <td>380.82</td>\n",
       "      <td>...</td>\n",
       "      <td>8893.213</td>\n",
       "      <td>267.902828</td>\n",
       "      <td>3.369565</td>\n",
       "      <td>2950.5275</td>\n",
       "      <td>562654.671212</td>\n",
       "      <td>234.065089</td>\n",
       "      <td>0.938515</td>\n",
       "      <td>0.0</td>\n",
       "      <td>0.0</td>\n",
       "      <td>0.45076</td>\n",
       "    </tr>\n",
       "    <tr>\n",
       "      <th>1</th>\n",
       "      <td>106.89</td>\n",
       "      <td>268.0</td>\n",
       "      <td>486.693200</td>\n",
       "      <td>274.9</td>\n",
       "      <td>0.7</td>\n",
       "      <td>173.1</td>\n",
       "      <td>3897.0</td>\n",
       "      <td>3661.9285</td>\n",
       "      <td>272.7</td>\n",
       "      <td>382.42</td>\n",
       "      <td>...</td>\n",
       "      <td>8985.488</td>\n",
       "      <td>265.447325</td>\n",
       "      <td>1.429392</td>\n",
       "      <td>2951.8225</td>\n",
       "      <td>563135.783333</td>\n",
       "      <td>240.114724</td>\n",
       "      <td>2.126252</td>\n",
       "      <td>0.0</td>\n",
       "      <td>0.0</td>\n",
       "      <td>0.49078</td>\n",
       "    </tr>\n",
       "    <tr>\n",
       "      <th>2</th>\n",
       "      <td>107.20</td>\n",
       "      <td>279.0</td>\n",
       "      <td>501.195000</td>\n",
       "      <td>277.9</td>\n",
       "      <td>0.7</td>\n",
       "      <td>177.4</td>\n",
       "      <td>4124.0</td>\n",
       "      <td>3746.6270</td>\n",
       "      <td>268.1</td>\n",
       "      <td>382.76</td>\n",
       "      <td>...</td>\n",
       "      <td>9080.986</td>\n",
       "      <td>268.861214</td>\n",
       "      <td>1.418332</td>\n",
       "      <td>2952.9225</td>\n",
       "      <td>563536.650000</td>\n",
       "      <td>242.288114</td>\n",
       "      <td>0.513847</td>\n",
       "      <td>0.0</td>\n",
       "      <td>0.0</td>\n",
       "      <td>0.52478</td>\n",
       "    </tr>\n",
       "    <tr>\n",
       "      <th>3</th>\n",
       "      <td>110.25</td>\n",
       "      <td>395.0</td>\n",
       "      <td>539.649455</td>\n",
       "      <td>279.1</td>\n",
       "      <td>1.3</td>\n",
       "      <td>228.6</td>\n",
       "      <td>6735.0</td>\n",
       "      <td>6449.1760</td>\n",
       "      <td>262.2</td>\n",
       "      <td>383.54</td>\n",
       "      <td>...</td>\n",
       "      <td>9176.945</td>\n",
       "      <td>263.952432</td>\n",
       "      <td>1.853741</td>\n",
       "      <td>2954.0225</td>\n",
       "      <td>563928.766667</td>\n",
       "      <td>245.694323</td>\n",
       "      <td>1.769919</td>\n",
       "      <td>0.0</td>\n",
       "      <td>0.0</td>\n",
       "      <td>0.55879</td>\n",
       "    </tr>\n",
       "    <tr>\n",
       "      <th>4</th>\n",
       "      <td>110.50</td>\n",
       "      <td>404.0</td>\n",
       "      <td>539.894909</td>\n",
       "      <td>281.9</td>\n",
       "      <td>1.1</td>\n",
       "      <td>250.3</td>\n",
       "      <td>7873.0</td>\n",
       "      <td>7567.3510</td>\n",
       "      <td>254.5</td>\n",
       "      <td>385.33</td>\n",
       "      <td>...</td>\n",
       "      <td>9274.864</td>\n",
       "      <td>270.597511</td>\n",
       "      <td>3.848356</td>\n",
       "      <td>2955.1225</td>\n",
       "      <td>564311.433333</td>\n",
       "      <td>245.812943</td>\n",
       "      <td>0.493195</td>\n",
       "      <td>0.0</td>\n",
       "      <td>0.0</td>\n",
       "      <td>0.59281</td>\n",
       "    </tr>\n",
       "  </tbody>\n",
       "</table>\n",
       "<p>5 rows × 108 columns</p>\n",
       "</div>"
      ],
      "text/plain": [
       "     Year  Gasage (EDC3, yr BP)  Gasage (AICC2012, yr BP)  CO2 (ppmv)  \\\n",
       "0  102.83                 137.0                350.110103       280.4   \n",
       "1  106.89                 268.0                486.693200       274.9   \n",
       "2  107.20                 279.0                501.195000       277.9   \n",
       "3  110.25                 395.0                539.649455       279.1   \n",
       "4  110.50                 404.0                539.894909       281.9   \n",
       "\n",
       "   sigma mean CO2 (ppmv)  Depth (m).1  Gasage (EDC3, yr BP).1  \\\n",
       "0                    1.8        149.1                  2690.0   \n",
       "1                    0.7        173.1                  3897.0   \n",
       "2                    0.7        177.4                  4124.0   \n",
       "3                    1.3        228.6                  6735.0   \n",
       "4                    1.1        250.3                  7873.0   \n",
       "\n",
       "   Gasage (AICC2012, yr BP).1  CO2 (ppmv).1  Depth (m).2  ...  \\\n",
       "0                         NaN         284.7       380.82  ...   \n",
       "1                   3661.9285         272.7       382.42  ...   \n",
       "2                   3746.6270         268.1       382.76  ...   \n",
       "3                   6449.1760         262.2       383.54  ...   \n",
       "4                   7567.3510         254.5       385.33  ...   \n",
       "\n",
       "   Gasage (WDC06A-7, yr BP).1  CO2 (ppmv).19  sigma mean CO2 (ppmv).16  \\\n",
       "0                    8893.213     267.902828                  3.369565   \n",
       "1                    8985.488     265.447325                  1.429392   \n",
       "2                    9080.986     268.861214                  1.418332   \n",
       "3                    9176.945     263.952432                  1.853741   \n",
       "4                    9274.864     270.597511                  3.848356   \n",
       "\n",
       "   Depth (m).19  Gasage (AICC2012, yr BP).13  corrected CO2 (ppmv)  \\\n",
       "0     2950.5275                562654.671212            234.065089   \n",
       "1     2951.8225                563135.783333            240.114724   \n",
       "2     2952.9225                563536.650000            242.288114   \n",
       "3     2954.0225                563928.766667            245.694323   \n",
       "4     2955.1225                564311.433333            245.812943   \n",
       "\n",
       "   analytical sigma mean CO2 (ppmv)  Correcting Factor (ppmv)  \\\n",
       "0                          0.938515                       0.0   \n",
       "1                          2.126252                       0.0   \n",
       "2                          0.513847                       0.0   \n",
       "3                          1.769919                       0.0   \n",
       "4                          0.493195                       0.0   \n",
       "\n",
       "   lower bound (2 sigma) of correction F. (ppmv)  \\\n",
       "0                                            0.0   \n",
       "1                                            0.0   \n",
       "2                                            0.0   \n",
       "3                                            0.0   \n",
       "4                                            0.0   \n",
       "\n",
       "   upper bound (2 sigma) of correction F. (ppmv)  \n",
       "0                                        0.45076  \n",
       "1                                        0.49078  \n",
       "2                                        0.52478  \n",
       "3                                        0.55879  \n",
       "4                                        0.59281  \n",
       "\n",
       "[5 rows x 108 columns]"
      ]
     },
     "execution_count": 58,
     "metadata": {},
     "output_type": "execute_result"
    }
   ],
   "source": [
    "# Read all columns \n",
    "sup_all_records.head()"
   ]
  },
  {
   "cell_type": "code",
   "execution_count": 83,
   "id": "5ed5a843",
   "metadata": {},
   "outputs": [
    {
     "name": "stdout",
     "output_type": "stream",
     "text": [
      "Index(['Year', 'Gasage (EDC3, yr BP)', 'Gasage (AICC2012, yr BP)'], dtype='object')\n"
     ]
    }
   ],
   "source": [
    "print(sup_all_records.columns)\n"
   ]
  },
  {
   "cell_type": "code",
   "execution_count": 39,
   "id": "4d8a6ab6",
   "metadata": {},
   "outputs": [
    {
     "name": "stdout",
     "output_type": "stream",
     "text": [
      "     Depth (m)  Gasage (EDC3, yr BP)  CO2 (ppmv)\n",
      "0       102.83                 137.0       280.4\n",
      "1       106.89                 268.0       274.9\n",
      "2       107.20                 279.0       277.9\n",
      "3       110.25                 395.0       279.1\n",
      "4       110.50                 404.0       281.9\n",
      "..         ...                   ...         ...\n",
      "387        NaN                   NaN         NaN\n",
      "388        NaN                   NaN         NaN\n",
      "389        NaN                   NaN         NaN\n",
      "390        NaN                   NaN         NaN\n",
      "391        NaN                   NaN         NaN\n",
      "\n",
      "[392 rows x 3 columns]\n"
     ]
    }
   ],
   "source": [
    "# Read only 3 columns\n",
    "subset_dataframe = sup_all_records[selected_columns]\n",
    "\n",
    "# Display the subset with the selected columns\n",
    "print(subset_dataframe)"
   ]
  },
  {
   "cell_type": "code",
   "execution_count": 79,
   "id": "e9620ab1",
   "metadata": {},
   "outputs": [
    {
     "name": "stdout",
     "output_type": "stream",
     "text": [
      "<class 'pandas.core.frame.DataFrame'>\n",
      "RangeIndex: 392 entries, 0 to 391\n",
      "Data columns (total 2 columns):\n",
      " #   Column                 Non-Null Count  Dtype  \n",
      "---  ------                 --------------  -----  \n",
      " 0   sigma mean CO2 (ppmv)  183 non-null    float64\n",
      " 1   CO2 (ppmv)             183 non-null    float64\n",
      "dtypes: float64(2)\n",
      "memory usage: 6.2 KB\n"
     ]
    }
   ],
   "source": [
    "subset_dataframe.info()"
   ]
  },
  {
   "cell_type": "code",
   "execution_count": 87,
   "id": "51f56d63",
   "metadata": {},
   "outputs": [
    {
     "name": "stdout",
     "output_type": "stream",
     "text": [
      "       Year  Gasage (EDC3, yr BP)  Gasage (AICC2012, yr BP)\n",
      "0    102.83                 137.0                350.110103\n",
      "1    106.89                 268.0                486.693200\n",
      "2    107.20                 279.0                501.195000\n",
      "3    110.25                 395.0                539.649455\n",
      "4    110.50                 404.0                539.894909\n",
      "..      ...                   ...                       ...\n",
      "387     NaN                   NaN                       NaN\n",
      "388     NaN                   NaN                       NaN\n",
      "389     NaN                   NaN                       NaN\n",
      "390     NaN                   NaN                       NaN\n",
      "391     NaN                   NaN                       NaN\n",
      "\n",
      "[392 rows x 3 columns]\n"
     ]
    }
   ],
   "source": [
    "# Assuming you have a DataFrame named 'sup_all_records'\n",
    "sup_all_records.rename(columns={sup_all_records.columns[0]: 'Year'}, inplace=True)\n",
    "\n",
    "# Display the DataFrame with the updated column name\n",
    "print(sup_all_records)\n",
    "\n",
    "updated_dataframe = sup_all_records.rename(columns={sup_all_records.columns[0]: 'Year'})\n",
    "\n"
   ]
  },
  {
   "cell_type": "code",
   "execution_count": 76,
   "id": "15713202",
   "metadata": {},
   "outputs": [
    {
     "data": {
      "text/html": [
       "<div>\n",
       "<style scoped>\n",
       "    .dataframe tbody tr th:only-of-type {\n",
       "        vertical-align: middle;\n",
       "    }\n",
       "\n",
       "    .dataframe tbody tr th {\n",
       "        vertical-align: top;\n",
       "    }\n",
       "\n",
       "    .dataframe thead th {\n",
       "        text-align: right;\n",
       "    }\n",
       "</style>\n",
       "<table border=\"1\" class=\"dataframe\">\n",
       "  <thead>\n",
       "    <tr style=\"text-align: right;\">\n",
       "      <th></th>\n",
       "      <th>sigma mean CO2 (ppmv)</th>\n",
       "      <th>CO2 (ppmv)</th>\n",
       "    </tr>\n",
       "  </thead>\n",
       "  <tbody>\n",
       "    <tr>\n",
       "      <th>count</th>\n",
       "      <td>183.000000</td>\n",
       "      <td>183.000000</td>\n",
       "    </tr>\n",
       "    <tr>\n",
       "      <th>mean</th>\n",
       "      <td>0.781421</td>\n",
       "      <td>250.746448</td>\n",
       "    </tr>\n",
       "    <tr>\n",
       "      <th>std</th>\n",
       "      <td>0.352673</td>\n",
       "      <td>29.107377</td>\n",
       "    </tr>\n",
       "    <tr>\n",
       "      <th>min</th>\n",
       "      <td>0.100000</td>\n",
       "      <td>184.400000</td>\n",
       "    </tr>\n",
       "    <tr>\n",
       "      <th>25%</th>\n",
       "      <td>0.500000</td>\n",
       "      <td>238.450000</td>\n",
       "    </tr>\n",
       "    <tr>\n",
       "      <th>50%</th>\n",
       "      <td>0.700000</td>\n",
       "      <td>262.300000</td>\n",
       "    </tr>\n",
       "    <tr>\n",
       "      <th>75%</th>\n",
       "      <td>1.000000</td>\n",
       "      <td>270.900000</td>\n",
       "    </tr>\n",
       "    <tr>\n",
       "      <th>max</th>\n",
       "      <td>2.000000</td>\n",
       "      <td>282.200000</td>\n",
       "    </tr>\n",
       "  </tbody>\n",
       "</table>\n",
       "</div>"
      ],
      "text/plain": [
       "       sigma mean CO2 (ppmv)  CO2 (ppmv)\n",
       "count             183.000000  183.000000\n",
       "mean                0.781421  250.746448\n",
       "std                 0.352673   29.107377\n",
       "min                 0.100000  184.400000\n",
       "25%                 0.500000  238.450000\n",
       "50%                 0.700000  262.300000\n",
       "75%                 1.000000  270.900000\n",
       "max                 2.000000  282.200000"
      ]
     },
     "execution_count": 76,
     "metadata": {},
     "output_type": "execute_result"
    }
   ],
   "source": [
    "#Summary statistics \n",
    "subset_dataframe.describe()"
   ]
  },
  {
   "cell_type": "code",
   "execution_count": null,
   "id": "7092bbe8",
   "metadata": {},
   "outputs": [],
   "source": []
  },
  {
   "cell_type": "code",
   "execution_count": null,
   "id": "99eb98b0",
   "metadata": {},
   "outputs": [],
   "source": []
  }
 ],
 "metadata": {
  "kernelspec": {
   "display_name": "Python 3 (ipykernel)",
   "language": "python",
   "name": "python3"
  },
  "language_info": {
   "codemirror_mode": {
    "name": "ipython",
    "version": 3
   },
   "file_extension": ".py",
   "mimetype": "text/x-python",
   "name": "python",
   "nbconvert_exporter": "python",
   "pygments_lexer": "ipython3",
   "version": "3.10.9"
  }
 },
 "nbformat": 4,
 "nbformat_minor": 5
}
